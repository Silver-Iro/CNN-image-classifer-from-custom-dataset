{
 "cells": [
  {
   "cell_type": "markdown",
   "id": "7b0fca1d-f8be-4049-84d5-b8aea842e628",
   "metadata": {},
   "source": [
    "## 1 - Initializing"
   ]
  },
  {
   "cell_type": "code",
   "execution_count": null,
   "id": "8a882b08-ed6a-4888-84ba-cc48e0993a90",
   "metadata": {},
   "outputs": [],
   "source": [
    "import tensorflow as tf\n",
    "import os\n",
    "import matplotlib.pyplot as plt"
   ]
  },
  {
   "cell_type": "code",
   "execution_count": null,
   "id": "0a8b9884-4020-4e56-ade7-2be59882c7d5",
   "metadata": {},
   "outputs": [],
   "source": [
    "gpus= tf.config.experimental.list_physical_devices('GPU')\n",
    "for gpu in gpus:\n",
    "    tf.config.experimental.set_memory_growth(gpu, True)"
   ]
  },
  {
   "cell_type": "markdown",
   "id": "b7c15d52-c946-4fc0-be3e-cdb2bcbcbd32",
   "metadata": {},
   "source": [
    "## Image preparation"
   ]
  },
  {
   "cell_type": "code",
   "execution_count": null,
   "id": "f9fa580e-d062-4ecb-9b9f-750617781d50",
   "metadata": {},
   "outputs": [],
   "source": [
    "import cv2\n",
    "import imghdr"
   ]
  },
  {
   "cell_type": "code",
   "execution_count": null,
   "id": "ec80eb1d-aa41-4491-88f8-d33ac7629ab1",
   "metadata": {},
   "outputs": [],
   "source": [
    "img_exts = ['jpeg', 'jpg', 'bmp', 'png']"
   ]
  },
  {
   "cell_type": "code",
   "execution_count": null,
   "id": "ad6afa32-a75a-45b1-9136-716c1909a9b5",
   "metadata": {},
   "outputs": [],
   "source": [
    "data_set_dir = 'new_data_set'\n",
    "os.listdir(data_set_dir)"
   ]
  },
  {
   "cell_type": "code",
   "execution_count": null,
   "id": "07c238d7-0558-4e79-b364-23a27071c9a9",
   "metadata": {},
   "outputs": [],
   "source": [
    "for image_class in os.listdir(data_set_dir):\n",
    "    for image in os.listdir(os.path.join(data_set_dir, image_class)):\n",
    "        image_path = os.path.join(data_set_dir, image_class, image)\n",
    "        try:\n",
    "            img = cv2.imread(image_path)\n",
    "            # plt.imshow(img)\n",
    "            # plt.show()\n",
    "            tip = imghdr.what(image_path)\n",
    "            if tip not in img_exts:\n",
    "                print('image ext not supported{}'.format(image_path))\n",
    "                os.remove(image_path)\n",
    "        except Exception as e:\n",
    "            print('issue with image{}'.format(image_path))"
   ]
  },
  {
   "cell_type": "markdown",
   "id": "d20fbfb8-e222-4ad3-95d9-2634b284e37b",
   "metadata": {},
   "source": [
    "### Creating dataset"
   ]
  },
  {
   "cell_type": "code",
   "execution_count": null,
   "id": "22edabf2-4c5e-487f-9932-a2a7fbc17469",
   "metadata": {},
   "outputs": [],
   "source": [
    "import numpy as np\n",
    "import matplotlib.pyplot as plt"
   ]
  },
  {
   "cell_type": "code",
   "execution_count": null,
   "id": "e7d914a6-f2d8-4e5b-ac7f-aad3bc1cf0b1",
   "metadata": {},
   "outputs": [],
   "source": [
    "dataset = tf.keras.utils.image_dataset_from_directory('new_data_set')"
   ]
  },
  {
   "cell_type": "code",
   "execution_count": null,
   "id": "0965e05f-7c2b-481b-93a8-f6e6e432f7dc",
   "metadata": {},
   "outputs": [],
   "source": [
    "dataset_iterator = dataset.as_numpy_iterator()"
   ]
  },
  {
   "cell_type": "code",
   "execution_count": null,
   "id": "0c599533-c6d1-4de2-b6a0-b421885459fa",
   "metadata": {},
   "outputs": [],
   "source": [
    "batch = dataset_iterator.next()"
   ]
  },
  {
   "cell_type": "code",
   "execution_count": null,
   "id": "7ef0444a-e5d0-428b-84ce-9eddae0f38ec",
   "metadata": {},
   "outputs": [],
   "source": [
    "batch[1]"
   ]
  },
  {
   "cell_type": "code",
   "execution_count": null,
   "id": "6227de91-ece6-46be-9681-34e2743f20b9",
   "metadata": {},
   "outputs": [],
   "source": [
    "fig, ax = plt.subplots(ncols=4, figsize=(20,20))\n",
    "for idx,img in enumerate(batch[0][:4]):\n",
    "    ax[idx].imshow(img.astype(int))\n",
    "    ax[idx].title.set_text(batch[1][idx])"
   ]
  },
  {
   "cell_type": "markdown",
   "id": "b5efd778-c89b-4bee-b49c-672babb866ef",
   "metadata": {},
   "source": [
    "## 2 - Preprocessing dataset"
   ]
  },
  {
   "cell_type": "markdown",
   "id": "f91d3396-595d-495a-8765-484436851caf",
   "metadata": {},
   "source": [
    "## scaling"
   ]
  },
  {
   "cell_type": "code",
   "execution_count": null,
   "id": "436f520d-e2a8-40aa-becb-216609171402",
   "metadata": {},
   "outputs": [],
   "source": [
    "#scaling our data using .map(lambda.....)\n",
    "scaled_dataset = dataset.map(lambda x, y: (x/255, y))"
   ]
  },
  {
   "cell_type": "code",
   "execution_count": null,
   "id": "a0d6ce3a-862a-4687-8055-6ba0ea0206e4",
   "metadata": {},
   "outputs": [],
   "source": [
    "scaled_dataset_iterator = scaled_dataset.as_numpy_iterator()\n",
    "scaled_dataset_batch = scaled_dataset_iterator.next()\n",
    "scaled_dataset_batch[0].max()"
   ]
  },
  {
   "cell_type": "code",
   "execution_count": null,
   "id": "c2cdd2ef-c7fd-490c-a4a4-574a0ba67f4c",
   "metadata": {},
   "outputs": [],
   "source": [
    "fig, ax = plt.subplots(ncols=4, figsize=(20,20))\n",
    "for idx,img in enumerate(scaled_dataset_batch[0][:4]):\n",
    "    ax[idx].imshow(img.astype(float))\n",
    "    ax[idx].title.set_text(scaled_dataset_batch[1][idx])"
   ]
  },
  {
   "cell_type": "markdown",
   "id": "4247227a-d1f4-4bd8-b1a1-389691d3d6fa",
   "metadata": {},
   "source": [
    "## splitting data"
   ]
  },
  {
   "cell_type": "code",
   "execution_count": null,
   "id": "21c4ce76-baeb-4d6e-8bb6-335843195520",
   "metadata": {},
   "outputs": [],
   "source": [
    "len(scaled_dataset)"
   ]
  },
  {
   "cell_type": "raw",
   "id": "b10258c5-49cb-4fec-8037-692b6decb9f0",
   "metadata": {},
   "source": [
    "assuming:\n",
    "training = 70%\n",
    "validation = 20%\n",
    "testing = 10%"
   ]
  },
  {
   "cell_type": "code",
   "execution_count": null,
   "id": "ede9deb4-bb22-4921-bd28-85fe49c54efb",
   "metadata": {},
   "outputs": [],
   "source": [
    "train_size = int(len(scaled_dataset)*0.7)\n",
    "val_size = int(len(scaled_dataset)*0.2)\n",
    "test_size = int(len(scaled_dataset)*0.1)"
   ]
  },
  {
   "cell_type": "code",
   "execution_count": null,
   "id": "3f23477f-ed50-4008-bf7f-76e9b62d2f81",
   "metadata": {},
   "outputs": [],
   "source": [
    "train = scaled_dataset.take(train_size)\n",
    "val = scaled_dataset.skip(train_size).take(val_size)\n",
    "test = scaled_dataset.skip(train_size+val_size).take(test_size)"
   ]
  },
  {
   "cell_type": "code",
   "execution_count": null,
   "id": "a2baf13f-7dd6-47ab-a4a5-732d3f8e497b",
   "metadata": {},
   "outputs": [],
   "source": [
    "# len(val)"
   ]
  },
  {
   "cell_type": "markdown",
   "id": "31cb0692-fdb0-4e4d-8519-f96288ddd70d",
   "metadata": {},
   "source": [
    "## 3 - Building the model"
   ]
  },
  {
   "cell_type": "code",
   "execution_count": null,
   "id": "e1a646c0-235a-43b8-a59c-f439774b98a7",
   "metadata": {},
   "outputs": [],
   "source": [
    "from tensorflow.keras.models import Sequential\n",
    "from tensorflow.keras.layers import Conv2D, MaxPooling2D, Dense, Flatten, Dropout"
   ]
  },
  {
   "cell_type": "code",
   "execution_count": null,
   "id": "48316bfd-4076-4766-9c78-ee9518be8691",
   "metadata": {},
   "outputs": [],
   "source": [
    "model = Sequential()"
   ]
  },
  {
   "cell_type": "code",
   "execution_count": null,
   "id": "e74f02d2-3e34-4f3b-99e2-4fe6183dd8ce",
   "metadata": {},
   "outputs": [],
   "source": [
    "model.add(Conv2D(16,(3,3),1, activation='relu', input_shape=(256,256,3)))\n",
    "model.add(MaxPooling2D())\n",
    "\n",
    "model.add(Conv2D(32,(3,3),1, activation='relu', input_shape=(256,256,3)))\n",
    "model.add(MaxPooling2D())\n",
    "\n",
    "model.add(Conv2D(16,(3,3),1, activation='relu', input_shape=(256,256,3)))\n",
    "model.add(MaxPooling2D())\n",
    "\n",
    "model.add(Flatten())\n",
    "\n",
    "model.add(Dense(256, activation='relu'))\n",
    "model.add(Dense(3, activation='softmax'))"
   ]
  },
  {
   "cell_type": "code",
   "execution_count": null,
   "id": "174596a9-e530-4b57-93ba-8b0e6b91b894",
   "metadata": {},
   "outputs": [],
   "source": [
    "model.compile('adam', loss='sparse_categorical_crossentropy', metrics=['accuracy'])"
   ]
  },
  {
   "cell_type": "code",
   "execution_count": null,
   "id": "fc4e3f18-8b7a-4743-b7dd-07cf76da5fac",
   "metadata": {},
   "outputs": [],
   "source": [
    "model.summary()"
   ]
  },
  {
   "cell_type": "markdown",
   "id": "5131f7ad-7a79-4ea7-b5cc-fef493853e50",
   "metadata": {},
   "source": [
    "## 4 - Training the model"
   ]
  },
  {
   "cell_type": "code",
   "execution_count": null,
   "id": "43e7d19f-46c4-4f57-91b5-258ed2477dab",
   "metadata": {},
   "outputs": [],
   "source": [
    "logdir = 'logs'"
   ]
  },
  {
   "cell_type": "code",
   "execution_count": null,
   "id": "0ed97983-3f7c-49c4-a96d-c0ae4d5470db",
   "metadata": {},
   "outputs": [],
   "source": [
    "tensorboard_callback = tf.keras.callbacks.TensorBoard(log_dir=logdir)"
   ]
  },
  {
   "cell_type": "code",
   "execution_count": null,
   "id": "a5218f25-cbd9-48fb-9aba-e5b5c5f85171",
   "metadata": {},
   "outputs": [],
   "source": [
    "# print(val)"
   ]
  },
  {
   "cell_type": "code",
   "execution_count": null,
   "id": "19adc000-5d29-4ac3-a362-5ecd6c33f18e",
   "metadata": {},
   "outputs": [],
   "source": [
    "# list(train)"
   ]
  },
  {
   "cell_type": "code",
   "execution_count": null,
   "id": "0a644588-5e9f-4007-adc0-833bf51b2d3a",
   "metadata": {},
   "outputs": [],
   "source": [
    "hist = model.fit(train, epochs=20, validation_data=val, callbacks=[tensorboard_callback])"
   ]
  },
  {
   "cell_type": "markdown",
   "id": "0da013e4-e001-4c38-8707-fda33470e063",
   "metadata": {},
   "source": [
    "## 5 - visualization"
   ]
  },
  {
   "cell_type": "code",
   "execution_count": null,
   "id": "8b0f2312-4ed7-423e-bff8-f5d1435b5260",
   "metadata": {},
   "outputs": [],
   "source": [
    "fig = plt.figure()\n",
    "plt.plot(hist.history['loss'], color='teal', label='loss')\n",
    "plt.plot(hist.history['val_loss'], color='orange', label='val_loss')\n",
    "fig.suptitle('loss', fontsize=20)\n",
    "plt.legend(loc=\"upper left\")\n",
    "plt.show()"
   ]
  },
  {
   "cell_type": "code",
   "execution_count": null,
   "id": "5a4194a9-4226-4576-b892-dbf87d301d9b",
   "metadata": {},
   "outputs": [],
   "source": [
    "fig = plt.figure()\n",
    "plt.plot(hist.history['accuracy'], color='teal', label='accuracy')\n",
    "plt.plot(hist.history['val_accuracy'], color='orange', label='val_accuracy')\n",
    "fig.suptitle('loss', fontsize=20)\n",
    "plt.legend(loc=\"upper left\")\n",
    "plt.show()"
   ]
  },
  {
   "cell_type": "markdown",
   "id": "637372f3-6a60-44f2-8360-5e018d5bdd77",
   "metadata": {},
   "source": [
    "## 6 - Evaluating the model"
   ]
  },
  {
   "cell_type": "code",
   "execution_count": null,
   "id": "65a452b8-0334-47b9-ae74-6fbdc54d98c6",
   "metadata": {},
   "outputs": [],
   "source": [
    "from tensorflow.keras.metrics import Precision, Recall, CategoricalAccuracy"
   ]
  },
  {
   "cell_type": "code",
   "execution_count": null,
   "id": "5531237e-5196-4c76-83cd-34f3cedd3132",
   "metadata": {},
   "outputs": [],
   "source": [
    "pre = Precision()\n",
    "re = Recall()\n",
    "acc = CategoricalAccuracy()"
   ]
  },
  {
   "cell_type": "code",
   "execution_count": null,
   "id": "a39aea2e-940c-4901-984a-66f4978260f9",
   "metadata": {},
   "outputs": [],
   "source": [
    "len(test)"
   ]
  },
  {
   "cell_type": "code",
   "execution_count": null,
   "id": "eeb1e2ca-0da3-4d1b-ad38-7b33ff53aaf5",
   "metadata": {},
   "outputs": [],
   "source": [
    "for batch in test.as_numpy_iterator():\n",
    "    x, y = batch\n",
    "    yhat = model.predict(x)\n",
    "    yhat_flat = [np.argmax(i) for i in yhat]\n",
    "    pre.update_state(y, yhat_flat)\n",
    "    re.update_state(y, yhat_flat)\n",
    "    acc.update_state(y, yhat_flat)"
   ]
  },
  {
   "cell_type": "code",
   "execution_count": null,
   "id": "7b81fcbb-9fcc-4546-9a35-14c925339441",
   "metadata": {},
   "outputs": [],
   "source": [
    "print(f'Precision:{pre.result().numpy()},Recall:{re.result().numpy()}, Accuracy:{acc.result().numpy()}')"
   ]
  },
  {
   "cell_type": "markdown",
   "id": "fa172f3a-71d5-48e7-b055-cbdaadbacb80",
   "metadata": {},
   "source": [
    "## 7 - testing the model"
   ]
  },
  {
   "cell_type": "code",
   "execution_count": null,
   "id": "f3ef5547-c19b-4ee4-a0d2-47d71d0a334a",
   "metadata": {},
   "outputs": [],
   "source": []
  },
  {
   "cell_type": "code",
   "execution_count": null,
   "id": "269c989b-2f1d-4769-a92e-923b5961a62f",
   "metadata": {},
   "outputs": [],
   "source": []
  }
 ],
 "metadata": {
  "kernelspec": {
   "display_name": "Python 3 (ipykernel)",
   "language": "python",
   "name": "python3"
  },
  "language_info": {
   "codemirror_mode": {
    "name": "ipython",
    "version": 3
   },
   "file_extension": ".py",
   "mimetype": "text/x-python",
   "name": "python",
   "nbconvert_exporter": "python",
   "pygments_lexer": "ipython3",
   "version": "3.12.7"
  }
 },
 "nbformat": 4,
 "nbformat_minor": 5
}
