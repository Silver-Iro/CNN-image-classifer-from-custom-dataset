{
 "cells": [
  {
   "cell_type": "markdown",
   "id": "f0a309a7-da08-4e1e-b5d5-e2236227dba4",
   "metadata": {},
   "source": [
    "## 1 - Setup"
   ]
  },
  {
   "cell_type": "code",
   "execution_count": null,
   "id": "106ecdb3-3c77-4609-80f8-57eeee23a35a",
   "metadata": {},
   "outputs": [],
   "source": [
    "import tensorflow as tf\n",
    "import numpy as np\n",
    "import os\n",
    "import matplotlib.pyplot as plt\n",
    "import cv2"
   ]
  },
  {
   "cell_type": "code",
   "execution_count": null,
   "id": "cf38f95b-3b29-46af-adb1-b5bdda767799",
   "metadata": {},
   "outputs": [],
   "source": [
    "import imghdr"
   ]
  },
  {
   "cell_type": "code",
   "execution_count": null,
   "id": "ae2caa80-af9a-42c5-8a71-63c0819b3ae4",
   "metadata": {},
   "outputs": [],
   "source": [
    "# limit VRAM usae\n",
    "GPUs = tf.config.experimental.list_physical_devices('GPU')\n",
    "for gpu in GPUs:\n",
    "    tf.config.experimental.set_memory_growth(gpu, True)"
   ]
  },
  {
   "cell_type": "markdown",
   "id": "4f10525c-7e62-47ba-9a07-e8b00db12129",
   "metadata": {},
   "source": [
    "## 2 - Load model"
   ]
  },
  {
   "cell_type": "code",
   "execution_count": null,
   "id": "8c3f5b32-19f8-43a4-a84d-0e373c82ffb5",
   "metadata": {},
   "outputs": [],
   "source": [
    "classifier = tf.keras.models.load_model(os.path.join('models', 'sentiment_model.h5'))"
   ]
  },
  {
   "cell_type": "markdown",
   "id": "c21f3678-9aa2-4ffc-b88f-83974686bebc",
   "metadata": {},
   "source": [
    "## 3 - Load external test images"
   ]
  },
  {
   "cell_type": "markdown",
   "id": "31e3b743-a11d-46d4-a877-610e9b779387",
   "metadata": {},
   "source": [
    "**External images sourced from Freepik**"
   ]
  },
  {
   "cell_type": "code",
   "execution_count": null,
   "id": "582144cb-dff0-4a02-91e6-ced432459d18",
   "metadata": {},
   "outputs": [],
   "source": [
    "img = []"
   ]
  },
  {
   "cell_type": "code",
   "execution_count": null,
   "id": "81b677c7-5ce0-4864-88a5-e09680fdf96d",
   "metadata": {},
   "outputs": [],
   "source": [
    "img"
   ]
  },
  {
   "cell_type": "code",
   "execution_count": null,
   "id": "e4d3a7ac-124e-4e9d-83c2-2294d274d5d1",
   "metadata": {},
   "outputs": [],
   "source": [
    "for i in range(6):\n",
    "    loaded = cv2.imread(os.path.join('External_samples',f'Ext{i}.jpg'))\n",
    "    plt.imshow(cv2.cvtColor(loaded,cv2.COLOR_BGR2RGB))\n",
    "    plt.show()\n",
    "    \n",
    "    len(img)\n",
    "    resized = tf.image.resize(loaded,(256,256))\n",
    "    plt.imshow(resized.numpy().astype(int))\n",
    "    img.append(resized/255)\n",
    "    plt.show()\n",
    "len(img)"
   ]
  },
  {
   "cell_type": "code",
   "execution_count": null,
   "id": "56490c09-98ad-4056-b5e3-ab97cb82fd53",
   "metadata": {},
   "outputs": [],
   "source": [
    "np.shape(img[0])\n",
    "img = np.reshape(img, newshape=(-1,256,256,3))"
   ]
  },
  {
   "cell_type": "code",
   "execution_count": null,
   "id": "68aebf95-3235-4a43-ac1f-aa6dc4f09968",
   "metadata": {},
   "outputs": [],
   "source": [
    "prediction = classifier.predict(img)"
   ]
  },
  {
   "cell_type": "code",
   "execution_count": null,
   "id": "de48dec7-c261-415e-8dd4-343e49587b1a",
   "metadata": {},
   "outputs": [],
   "source": [
    "prediction"
   ]
  },
  {
   "cell_type": "code",
   "execution_count": null,
   "id": "15aea961-5204-49f9-b5d2-a6dcc641b317",
   "metadata": {},
   "outputs": [],
   "source": [
    "output =[np.argmax(i) for i in prediction]"
   ]
  },
  {
   "cell_type": "code",
   "execution_count": null,
   "id": "519f3de1-e950-482a-af95-051b964d0ebd",
   "metadata": {},
   "outputs": [],
   "source": []
  },
  {
   "cell_type": "code",
   "execution_count": null,
   "id": "6422e9e2-ae62-45cd-8aad-375824210711",
   "metadata": {},
   "outputs": [],
   "source": [
    "for i in range(len(output)):\n",
    "    print(f'Model prediction for image {i} is: {output[i]}')"
   ]
  },
  {
   "cell_type": "code",
   "execution_count": null,
   "id": "51ff8bfc-1af4-4827-bf65-5d13576a41f4",
   "metadata": {},
   "outputs": [],
   "source": []
  }
 ],
 "metadata": {
  "kernelspec": {
   "display_name": "Python 3 (ipykernel)",
   "language": "python",
   "name": "python3"
  },
  "language_info": {
   "codemirror_mode": {
    "name": "ipython",
    "version": 3
   },
   "file_extension": ".py",
   "mimetype": "text/x-python",
   "name": "python",
   "nbconvert_exporter": "python",
   "pygments_lexer": "ipython3",
   "version": "3.12.7"
  }
 },
 "nbformat": 4,
 "nbformat_minor": 5
}
